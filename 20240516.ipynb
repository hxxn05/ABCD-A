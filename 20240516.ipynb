{
  "nbformat": 4,
  "nbformat_minor": 0,
  "metadata": {
    "colab": {
      "provenance": [],
      "authorship_tag": "ABX9TyPjLYueyMOupCP43xzVRNep",
      "include_colab_link": true
    },
    "kernelspec": {
      "name": "python3",
      "display_name": "Python 3"
    },
    "language_info": {
      "name": "python"
    }
  },
  "cells": [
    {
      "cell_type": "markdown",
      "metadata": {
        "id": "view-in-github",
        "colab_type": "text"
      },
      "source": [
        "<a href=\"https://colab.research.google.com/github/hxxn05/ABCD-A/blob/main/20240516.ipynb\" target=\"_parent\"><img src=\"https://colab.research.google.com/assets/colab-badge.svg\" alt=\"Open In Colab\"/></a>"
      ]
    },
    {
      "cell_type": "code",
      "execution_count": 2,
      "metadata": {
        "id": "SDdOwj5q3MuM"
      },
      "outputs": [],
      "source": [
        "import torch\n",
        "import torch.nn as nn\n",
        "import torch.nn.functional as F"
      ]
    },
    {
      "cell_type": "code",
      "source": [
        "## Pooling example\n",
        "input_example = torch.tensor([[[0, 1, 2],[3,4,5],[6,7,8]]])\n",
        "print(input_example)\n",
        "#max pooling\n",
        "max_pooling_layer =nn.MaxPool2d(kernel_size = 2, stride = 1)\n",
        "print(max_pooling_layer)\n",
        "print(max_pooling_layer(input_example))\n",
        "#average pooling\n",
        "average_pooling_layer = torch.nn.AvgPool2d(kernel_size =2, stride = 1)\n",
        "print(average_pooling_layer)\n",
        "print(average_pooling_layer(input_example))\n"
      ],
      "metadata": {
        "colab": {
          "base_uri": "https://localhost:8080/"
        },
        "id": "eIXVm_Eh4OLC",
        "outputId": "da9d2f55-f28a-4c82-f9b8-850fe91fbe7d"
      },
      "execution_count": 10,
      "outputs": [
        {
          "output_type": "stream",
          "name": "stdout",
          "text": [
            "tensor([[[0, 1, 2],\n",
            "         [3, 4, 5],\n",
            "         [6, 7, 8]]])\n",
            "MaxPool2d(kernel_size=2, stride=1, padding=0, dilation=1, ceil_mode=False)\n",
            "tensor([[[4, 5],\n",
            "         [7, 8]]])\n",
            "AvgPool2d(kernel_size=2, stride=1, padding=0)\n",
            "tensor([[[2, 3],\n",
            "         [5, 6]]])\n"
          ]
        }
      ]
    },
    {
      "cell_type": "code",
      "source": [
        "input_example = torch.tensor([[[12,20,30,0],[20,12,2,0],[0,70,5,2],]])\n",
        "print(input_example)\n",
        "\n",
        "max_pooling_layer = nn.MaxPool2d(kernel_size = 2, stride = 2)\n",
        "print('\\nmax pooling: \\n', max_pooling_layer(input_example))\n",
        "\n",
        "average_pooling_layer = torch.nn.AvgPool2d(kernel_size= 2, stride =2)\n",
        "print('\\naverage pooling:\\n', average_pooling_layer(input_example))\n"
      ],
      "metadata": {
        "colab": {
          "base_uri": "https://localhost:8080/"
        },
        "id": "yF77FHUg6p9R",
        "outputId": "c9905ee7-62f9-491f-ae1d-49baf1da64a4"
      },
      "execution_count": 20,
      "outputs": [
        {
          "output_type": "stream",
          "name": "stdout",
          "text": [
            "tensor([[[12, 20, 30,  0],\n",
            "         [20, 12,  2,  0],\n",
            "         [ 0, 70,  5,  2]]])\n",
            "\n",
            "max pooling: \n",
            " tensor([[[20, 30]]])\n",
            "\n",
            "average pooling:\n",
            " tensor([[[16,  8]]])\n"
          ]
        }
      ]
    },
    {
      "cell_type": "code",
      "source": [
        "conv1 = nn.Conv2d(in_channels=1, out_channels= 32, kernel_size=3, padding=1)\n",
        "\n",
        "print(conv1)"
      ],
      "metadata": {
        "colab": {
          "base_uri": "https://localhost:8080/"
        },
        "id": "iG7yYDCLB6Si",
        "outputId": "9c0c24da-7aa7-434e-9c2a-72d91dde6f18"
      },
      "execution_count": 21,
      "outputs": [
        {
          "output_type": "stream",
          "name": "stdout",
          "text": [
            "Conv2d(1, 32, kernel_size=(3, 3), stride=(1, 1), padding=(1, 1))\n"
          ]
        }
      ]
    },
    {
      "cell_type": "code",
      "source": [
        "conv2 = nn.Conv2d(in_channels=32, out_channels=64, kernel_size=3, padding=1)\n",
        "\n",
        "print(conv2)"
      ],
      "metadata": {
        "colab": {
          "base_uri": "https://localhost:8080/"
        },
        "id": "vLg9iB9VCbTg",
        "outputId": "ce18407c-640b-4ce5-9a2b-8ca1d9d5a2c2"
      },
      "execution_count": 24,
      "outputs": [
        {
          "output_type": "stream",
          "name": "stdout",
          "text": [
            "Conv2d(32, 64, kernel_size=(3, 3), stride=(1, 1), padding=(1, 1))\n"
          ]
        }
      ]
    },
    {
      "cell_type": "code",
      "source": [
        "\n",
        "out = torch.randn(1, 4096)\n",
        "\n",
        "\n",
        "fc = nn.Linear(4096, 10)\n",
        "\n",
        "\n",
        "out = fc(out)\n",
        "\n",
        "\n",
        "print(out.shape)\n",
        "print(out)\n"
      ],
      "metadata": {
        "colab": {
          "base_uri": "https://localhost:8080/"
        },
        "id": "0fNZ4vf_KZUN",
        "outputId": "aeabeb97-b674-42d2-a8bb-c7b14d2c026e"
      },
      "execution_count": 28,
      "outputs": [
        {
          "output_type": "stream",
          "name": "stdout",
          "text": [
            "torch.Size([1, 10])\n",
            "tensor([[-0.4372,  1.2019,  0.4155,  0.1123,  1.3727, -0.3513,  0.6098,  0.0514,\n",
            "         -0.2181,  0.6425]], grad_fn=<AddmmBackward0>)\n"
          ]
        }
      ]
    }
  ]
}